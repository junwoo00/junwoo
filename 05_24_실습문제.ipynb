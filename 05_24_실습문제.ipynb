{
  "nbformat": 4,
  "nbformat_minor": 0,
  "metadata": {
    "colab": {
      "provenance": []
    },
    "kernelspec": {
      "name": "python3",
      "display_name": "Python 3"
    },
    "language_info": {
      "name": "python"
    }
  },
  "cells": [
    {
      "cell_type": "code",
      "execution_count": null,
      "metadata": {
        "id": "zl86y6IPOyqw"
      },
      "outputs": [],
      "source": [
        "from itertools import combinations\n",
        "\n",
        "def prime_num(nums) :\n",
        "  if nums < 2 :\n",
        "    return False\n",
        "  elif nums >= 2 :\n",
        "    for i in range(2,nums+1) :\n",
        "      for j in range(2,i) :\n",
        "        if i % j == 0 :\n",
        "          return False\n",
        "  else :\n",
        "    return True\n",
        "\n",
        "def solution(nums):\n",
        "    count = 0\n",
        "    for comb in combinations(nums, 3):\n",
        "        if prime_num(sum(comb)):\n",
        "            count += 1\n",
        "    return count"
      ]
    }
  ]
}